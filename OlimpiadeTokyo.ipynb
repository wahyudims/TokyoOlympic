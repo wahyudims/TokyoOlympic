{
  "nbformat": 4,
  "nbformat_minor": 0,
  "metadata": {
    "colab": {
      "name": "OlimpiadeTokyo.ipynb",
      "provenance": [],
      "authorship_tag": "ABX9TyNJtjMjqDO65FueTh+GldG6",
      "include_colab_link": true
    },
    "kernelspec": {
      "name": "python3",
      "display_name": "Python 3"
    },
    "language_info": {
      "name": "python"
    }
  },
  "cells": [
    {
      "cell_type": "markdown",
      "metadata": {
        "id": "view-in-github",
        "colab_type": "text"
      },
      "source": [
        "<a href=\"https://colab.research.google.com/github/wahyudims/TokyoOlympic/blob/main/OlimpiadeTokyo.ipynb\" target=\"_parent\"><img src=\"https://colab.research.google.com/assets/colab-badge.svg\" alt=\"Open In Colab\"/></a>"
      ]
    },
    {
      "cell_type": "code",
      "metadata": {
        "colab": {
          "base_uri": "https://localhost:8080/"
        },
        "id": "30EKWInX1OGw",
        "outputId": "8dcf63cb-e319-4898-b78c-ab3cfefab84e"
      },
      "source": [
        "from google.colab import drive\n",
        "drive.mount('/content/gdrive')"
      ],
      "execution_count": 1,
      "outputs": [
        {
          "output_type": "stream",
          "name": "stdout",
          "text": [
            "Mounted at /content/gdrive\n"
          ]
        }
      ]
    },
    {
      "cell_type": "markdown",
      "metadata": {
        "id": "rKypdI_NdmhM"
      },
      "source": [
        "# Import Modules"
      ]
    },
    {
      "cell_type": "code",
      "metadata": {
        "id": "aQsGhdll1PRX"
      },
      "source": [
        "import pandas as pd\n",
        "import numpy as np\n",
        "import matplotlib.pyplot as plt\n",
        "import plotly.express as px\n",
        "import plotly.graph_objects as go"
      ],
      "execution_count": 2,
      "outputs": []
    },
    {
      "cell_type": "markdown",
      "metadata": {
        "id": "C1tiCe3Wdpq7"
      },
      "source": [
        "# Import Datasets"
      ]
    },
    {
      "cell_type": "code",
      "metadata": {
        "id": "RTGb2c6s8-kV"
      },
      "source": [
        "teams=pd.read_excel('/content/gdrive/MyDrive/Colab Notebooks/StudiKasus/Teams.xlsx')\n",
        "medals=pd.read_excel('/content/gdrive/MyDrive/Colab Notebooks/StudiKasus/Medals.xlsx')\n",
        "genders=pd.read_excel('/content/gdrive/MyDrive/Colab Notebooks/StudiKasus/EntriesGender.xlsx')\n",
        "coaches=pd.read_excel('/content/gdrive/MyDrive/Colab Notebooks/StudiKasus/Coaches.xlsx')\n",
        "athletes=pd.read_excel('/content/gdrive/MyDrive/Colab Notebooks/StudiKasus/Athletes.xlsx')"
      ],
      "execution_count": 3,
      "outputs": []
    },
    {
      "cell_type": "code",
      "metadata": {
        "colab": {
          "base_uri": "https://localhost:8080/"
        },
        "id": "eY3RJ_qIzACq",
        "outputId": "943d4c94-6ba6-43f6-b7d6-07870bbcb1fd"
      },
      "source": [
        "print(teams.head())\n",
        "print(medals.head())\n",
        "print(genders.head())\n",
        "print(coaches.head())\n",
        "print(athletes.head())"
      ],
      "execution_count": 4,
      "outputs": [
        {
          "output_type": "stream",
          "name": "stdout",
          "text": [
            "      Name      Discipline                         NOC  Event\n",
            "0  Belgium  3x3 Basketball                     Belgium    Men\n",
            "1    China  3x3 Basketball  People's Republic of China    Men\n",
            "2    China  3x3 Basketball  People's Republic of China  Women\n",
            "3   France  3x3 Basketball                      France  Women\n",
            "4    Italy  3x3 Basketball                       Italy  Women\n",
            "   Rank                    Team/NOC  Gold  Silver  Bronze  Total  Rank by Total\n",
            "0     1    United States of America    39      41      33    113              1\n",
            "1     2  People's Republic of China    38      32      18     88              2\n",
            "2     3                       Japan    27      14      17     58              5\n",
            "3     4               Great Britain    22      21      22     65              4\n",
            "4     5                         ROC    20      28      23     71              3\n",
            "            Discipline  Female  Male  Total\n",
            "0       3x3 Basketball      32    32     64\n",
            "1              Archery      64    64    128\n",
            "2  Artistic Gymnastics      98    98    196\n",
            "3    Artistic Swimming     105     0    105\n",
            "4            Athletics     969  1072   2041\n",
            "              Name            NOC  Discipline Event\n",
            "0  ABDELMAGID Wael          Egypt    Football   NaN\n",
            "1        ABE Junya          Japan  Volleyball   NaN\n",
            "2    ABE Katsuhiko          Japan  Basketball   NaN\n",
            "3     ADAMA Cherif  Côte d'Ivoire    Football   NaN\n",
            "4       AGEBA Yuya          Japan  Volleyball   NaN\n",
            "                Name     NOC           Discipline\n",
            "0    AALERUD Katrine  Norway         Cycling Road\n",
            "1        ABAD Nestor   Spain  Artistic Gymnastics\n",
            "2  ABAGNALE Giovanni   Italy               Rowing\n",
            "3     ABALDE Alberto   Spain           Basketball\n",
            "4      ABALDE Tamara   Spain           Basketball\n"
          ]
        }
      ]
    },
    {
      "cell_type": "markdown",
      "metadata": {
        "id": "I8gSqhG9eBNz"
      },
      "source": [
        "# Genders Plot\n",
        "\n",
        "\n",
        "*   Athletics discipline has the most participant (1072 Male and 969 Female)\n",
        "*   Artistic Swimming and Rhythmic Gymnastic have no male participant\n",
        "*   Cycling BMX Freestyle has the least participant\n",
        "\n"
      ]
    },
    {
      "cell_type": "code",
      "metadata": {
        "colab": {
          "base_uri": "https://localhost:8080/",
          "height": 1000
        },
        "id": "NQtWRNZ1_nnj",
        "outputId": "b899c0ff-d4e5-4dbc-f4dd-ab17d30398c7"
      },
      "source": [
        "genders.sort_values(by='Total', ascending=True, inplace=True)\n",
        "female = go.Bar(y=genders['Discipline'], \n",
        "                x=genders['Female'], \n",
        "                name='Female', \n",
        "                orientation='h', \n",
        "                text=genders['Female'], \n",
        "                textposition='outside', \n",
        "                hoverinfo='skip', \n",
        "                marker_color='pink')\n",
        "male = go.Bar(y=genders['Discipline'], \n",
        "              x=genders['Male'], \n",
        "              name='Male', \n",
        "              orientation='h', \n",
        "              text=genders['Male'], \n",
        "              textposition='outside',\n",
        "              hoverinfo='skip', \n",
        "              marker_color='blue')\n",
        "data = [female, male]\n",
        "layoutgender = go.Layout(title = {'text': '<b>Genders plot:</b> <br />Distribution accross all disciplines<br />', 'xanchor': 'center', 'x':0.5} ,\n",
        "              xaxis= dict(title= 'Genders count',ticklen= 5,zeroline= False),\n",
        "              hovermode=\"y\", autosize=False, width=1000, height=2000,)\n",
        "fig=go.Figure(data=data, layout=layoutgender)\n",
        "fig.show()"
      ],
      "execution_count": 5,
      "outputs": [
        {
          "output_type": "display_data",
          "data": {
            "text/html": [
              "<html>\n",
              "<head><meta charset=\"utf-8\" /></head>\n",
              "<body>\n",
              "    <div>\n",
              "            <script src=\"https://cdnjs.cloudflare.com/ajax/libs/mathjax/2.7.5/MathJax.js?config=TeX-AMS-MML_SVG\"></script><script type=\"text/javascript\">if (window.MathJax) {MathJax.Hub.Config({SVG: {font: \"STIX-Web\"}});}</script>\n",
              "                <script type=\"text/javascript\">window.PlotlyConfig = {MathJaxConfig: 'local'};</script>\n",
              "        <script src=\"https://cdn.plot.ly/plotly-latest.min.js\"></script>    \n",
              "            <div id=\"fdd5a4c4-ea6d-4090-be4e-c94490a0dcee\" class=\"plotly-graph-div\" style=\"height:2000px; width:1000px;\"></div>\n",
              "            <script type=\"text/javascript\">\n",
              "                \n",
              "                    window.PLOTLYENV=window.PLOTLYENV || {};\n",
              "                    \n",
              "                if (document.getElementById(\"fdd5a4c4-ea6d-4090-be4e-c94490a0dcee\")) {\n",
              "                    Plotly.newPlot(\n",
              "                        'fdd5a4c4-ea6d-4090-be4e-c94490a0dcee',\n",
              "                        [{\"hoverinfo\": \"skip\", \"marker\": {\"color\": \"pink\"}, \"name\": \"Female\", \"orientation\": \"h\", \"text\": [10.0, 16.0, 20.0, 20.0, 24.0, 25.0, 32.0, 36.0, 38.0, 40.0, 41.0, 40.0, 96.0, 48.0, 105.0, 55.0, 60.0, 64.0, 65.0, 72.0, 86.0, 86.0, 90.0, 94.0, 98.0, 98.0, 73.0, 70.0, 107.0, 90.0, 123.0, 122.0, 144.0, 144.0, 96.0, 102.0, 146.0, 168.0, 175.0, 178.0, 192.0, 192.0, 257.0, 264.0, 361.0, 969.0], \"textposition\": \"outside\", \"type\": \"bar\", \"x\": [10, 16, 20, 20, 24, 25, 32, 36, 38, 40, 41, 40, 96, 48, 105, 55, 60, 64, 65, 72, 86, 86, 90, 94, 98, 98, 73, 70, 107, 90, 123, 122, 144, 144, 96, 102, 146, 168, 175, 178, 192, 192, 257, 264, 361, 969], \"y\": [\"Cycling BMX Freestyle\", \"Trampoline Gymnastics\", \"Surfing\", \"Sport Climbing\", \"Cycling BMX Racing\", \"Marathon Swimming\", \"3x3 Basketball\", \"Modern Pentathlon\", \"Cycling Mountain Bike\", \"Skateboarding\", \"Canoe Slalom\", \"Karate\", \"Rhythmic Gymnastics\", \"Beach Volleyball\", \"Artistic Swimming\", \"Triathlon\", \"Golf\", \"Archery\", \"Taekwondo\", \"Diving\", \"Table Tennis\", \"Badminton\", \"Cycling Track\", \"Tennis\", \"Artistic Gymnastics\", \"Weightlifting\", \"Equestrian\", \"Cycling Road\", \"Fencing\", \"Baseball/Softball\", \"Canoe Sprint\", \"Water Polo\", \"Volleyball\", \"Basketball\", \"Wrestling\", \"Boxing\", \"Rugby Sevens\", \"Handball\", \"Sailing\", \"Shooting\", \"Hockey\", \"Judo\", \"Rowing\", \"Football\", \"Swimming\", \"Athletics\"]}, {\"hoverinfo\": \"skip\", \"marker\": {\"color\": \"blue\"}, \"name\": \"Male\", \"orientation\": \"h\", \"text\": [9.0, 16.0, 20.0, 20.0, 24.0, 25.0, 32.0, 36.0, 38.0, 40.0, 41.0, 42.0, 0.0, 48.0, 0.0, 55.0, 60.0, 64.0, 65.0, 71.0, 86.0, 87.0, 99.0, 97.0, 98.0, 99.0, 125.0, 131.0, 108.0, 144.0, 126.0, 146.0, 144.0, 144.0, 193.0, 187.0, 151.0, 168.0, 175.0, 178.0, 192.0, 201.0, 265.0, 344.0, 418.0, 1072.0], \"textposition\": \"outside\", \"type\": \"bar\", \"x\": [9, 16, 20, 20, 24, 25, 32, 36, 38, 40, 41, 42, 0, 48, 0, 55, 60, 64, 65, 71, 86, 87, 99, 97, 98, 99, 125, 131, 108, 144, 126, 146, 144, 144, 193, 187, 151, 168, 175, 178, 192, 201, 265, 344, 418, 1072], \"y\": [\"Cycling BMX Freestyle\", \"Trampoline Gymnastics\", \"Surfing\", \"Sport Climbing\", \"Cycling BMX Racing\", \"Marathon Swimming\", \"3x3 Basketball\", \"Modern Pentathlon\", \"Cycling Mountain Bike\", \"Skateboarding\", \"Canoe Slalom\", \"Karate\", \"Rhythmic Gymnastics\", \"Beach Volleyball\", \"Artistic Swimming\", \"Triathlon\", \"Golf\", \"Archery\", \"Taekwondo\", \"Diving\", \"Table Tennis\", \"Badminton\", \"Cycling Track\", \"Tennis\", \"Artistic Gymnastics\", \"Weightlifting\", \"Equestrian\", \"Cycling Road\", \"Fencing\", \"Baseball/Softball\", \"Canoe Sprint\", \"Water Polo\", \"Volleyball\", \"Basketball\", \"Wrestling\", \"Boxing\", \"Rugby Sevens\", \"Handball\", \"Sailing\", \"Shooting\", \"Hockey\", \"Judo\", \"Rowing\", \"Football\", \"Swimming\", \"Athletics\"]}],\n",
              "                        {\"autosize\": false, \"height\": 2000, \"hovermode\": \"y\", \"template\": {\"data\": {\"bar\": [{\"error_x\": {\"color\": \"#2a3f5f\"}, \"error_y\": {\"color\": \"#2a3f5f\"}, \"marker\": {\"line\": {\"color\": \"#E5ECF6\", \"width\": 0.5}}, \"type\": \"bar\"}], \"barpolar\": [{\"marker\": {\"line\": {\"color\": \"#E5ECF6\", \"width\": 0.5}}, \"type\": \"barpolar\"}], \"carpet\": [{\"aaxis\": {\"endlinecolor\": \"#2a3f5f\", \"gridcolor\": \"white\", \"linecolor\": \"white\", \"minorgridcolor\": \"white\", \"startlinecolor\": \"#2a3f5f\"}, \"baxis\": {\"endlinecolor\": \"#2a3f5f\", \"gridcolor\": \"white\", \"linecolor\": \"white\", \"minorgridcolor\": \"white\", \"startlinecolor\": \"#2a3f5f\"}, \"type\": \"carpet\"}], \"choropleth\": [{\"colorbar\": {\"outlinewidth\": 0, \"ticks\": \"\"}, \"type\": \"choropleth\"}], \"contour\": [{\"colorbar\": {\"outlinewidth\": 0, \"ticks\": \"\"}, \"colorscale\": [[0.0, \"#0d0887\"], [0.1111111111111111, \"#46039f\"], [0.2222222222222222, \"#7201a8\"], [0.3333333333333333, \"#9c179e\"], [0.4444444444444444, \"#bd3786\"], [0.5555555555555556, \"#d8576b\"], [0.6666666666666666, \"#ed7953\"], [0.7777777777777778, \"#fb9f3a\"], [0.8888888888888888, \"#fdca26\"], [1.0, \"#f0f921\"]], \"type\": \"contour\"}], \"contourcarpet\": [{\"colorbar\": {\"outlinewidth\": 0, \"ticks\": \"\"}, \"type\": \"contourcarpet\"}], \"heatmap\": [{\"colorbar\": {\"outlinewidth\": 0, \"ticks\": \"\"}, \"colorscale\": [[0.0, \"#0d0887\"], [0.1111111111111111, \"#46039f\"], [0.2222222222222222, \"#7201a8\"], [0.3333333333333333, \"#9c179e\"], [0.4444444444444444, \"#bd3786\"], [0.5555555555555556, \"#d8576b\"], [0.6666666666666666, \"#ed7953\"], [0.7777777777777778, \"#fb9f3a\"], [0.8888888888888888, \"#fdca26\"], [1.0, \"#f0f921\"]], \"type\": \"heatmap\"}], \"heatmapgl\": [{\"colorbar\": {\"outlinewidth\": 0, \"ticks\": \"\"}, \"colorscale\": [[0.0, \"#0d0887\"], [0.1111111111111111, \"#46039f\"], [0.2222222222222222, \"#7201a8\"], [0.3333333333333333, \"#9c179e\"], [0.4444444444444444, \"#bd3786\"], [0.5555555555555556, \"#d8576b\"], [0.6666666666666666, \"#ed7953\"], [0.7777777777777778, \"#fb9f3a\"], [0.8888888888888888, \"#fdca26\"], [1.0, \"#f0f921\"]], \"type\": \"heatmapgl\"}], \"histogram\": [{\"marker\": {\"colorbar\": {\"outlinewidth\": 0, \"ticks\": \"\"}}, \"type\": \"histogram\"}], \"histogram2d\": [{\"colorbar\": {\"outlinewidth\": 0, \"ticks\": \"\"}, \"colorscale\": [[0.0, \"#0d0887\"], [0.1111111111111111, \"#46039f\"], [0.2222222222222222, \"#7201a8\"], [0.3333333333333333, \"#9c179e\"], [0.4444444444444444, \"#bd3786\"], [0.5555555555555556, \"#d8576b\"], [0.6666666666666666, \"#ed7953\"], [0.7777777777777778, \"#fb9f3a\"], [0.8888888888888888, \"#fdca26\"], [1.0, \"#f0f921\"]], \"type\": \"histogram2d\"}], \"histogram2dcontour\": [{\"colorbar\": {\"outlinewidth\": 0, \"ticks\": \"\"}, \"colorscale\": [[0.0, \"#0d0887\"], [0.1111111111111111, \"#46039f\"], [0.2222222222222222, \"#7201a8\"], [0.3333333333333333, \"#9c179e\"], [0.4444444444444444, \"#bd3786\"], [0.5555555555555556, \"#d8576b\"], [0.6666666666666666, \"#ed7953\"], [0.7777777777777778, \"#fb9f3a\"], [0.8888888888888888, \"#fdca26\"], [1.0, \"#f0f921\"]], \"type\": \"histogram2dcontour\"}], \"mesh3d\": [{\"colorbar\": {\"outlinewidth\": 0, \"ticks\": \"\"}, \"type\": \"mesh3d\"}], \"parcoords\": [{\"line\": {\"colorbar\": {\"outlinewidth\": 0, \"ticks\": \"\"}}, \"type\": \"parcoords\"}], \"pie\": [{\"automargin\": true, \"type\": \"pie\"}], \"scatter\": [{\"marker\": {\"colorbar\": {\"outlinewidth\": 0, \"ticks\": \"\"}}, \"type\": \"scatter\"}], \"scatter3d\": [{\"line\": {\"colorbar\": {\"outlinewidth\": 0, \"ticks\": \"\"}}, \"marker\": {\"colorbar\": {\"outlinewidth\": 0, \"ticks\": \"\"}}, \"type\": \"scatter3d\"}], \"scattercarpet\": [{\"marker\": {\"colorbar\": {\"outlinewidth\": 0, \"ticks\": \"\"}}, \"type\": \"scattercarpet\"}], \"scattergeo\": [{\"marker\": {\"colorbar\": {\"outlinewidth\": 0, \"ticks\": \"\"}}, \"type\": \"scattergeo\"}], \"scattergl\": [{\"marker\": {\"colorbar\": {\"outlinewidth\": 0, \"ticks\": \"\"}}, \"type\": \"scattergl\"}], \"scattermapbox\": [{\"marker\": {\"colorbar\": {\"outlinewidth\": 0, \"ticks\": \"\"}}, \"type\": \"scattermapbox\"}], \"scatterpolar\": [{\"marker\": {\"colorbar\": {\"outlinewidth\": 0, \"ticks\": \"\"}}, \"type\": \"scatterpolar\"}], \"scatterpolargl\": [{\"marker\": {\"colorbar\": {\"outlinewidth\": 0, \"ticks\": \"\"}}, \"type\": \"scatterpolargl\"}], \"scatterternary\": [{\"marker\": {\"colorbar\": {\"outlinewidth\": 0, \"ticks\": \"\"}}, \"type\": \"scatterternary\"}], \"surface\": [{\"colorbar\": {\"outlinewidth\": 0, \"ticks\": \"\"}, \"colorscale\": [[0.0, \"#0d0887\"], [0.1111111111111111, \"#46039f\"], [0.2222222222222222, \"#7201a8\"], [0.3333333333333333, \"#9c179e\"], [0.4444444444444444, \"#bd3786\"], [0.5555555555555556, \"#d8576b\"], [0.6666666666666666, \"#ed7953\"], [0.7777777777777778, \"#fb9f3a\"], [0.8888888888888888, \"#fdca26\"], [1.0, \"#f0f921\"]], \"type\": \"surface\"}], \"table\": [{\"cells\": {\"fill\": {\"color\": \"#EBF0F8\"}, \"line\": {\"color\": \"white\"}}, \"header\": {\"fill\": {\"color\": \"#C8D4E3\"}, \"line\": {\"color\": \"white\"}}, \"type\": \"table\"}]}, \"layout\": {\"annotationdefaults\": {\"arrowcolor\": \"#2a3f5f\", \"arrowhead\": 0, \"arrowwidth\": 1}, \"coloraxis\": {\"colorbar\": {\"outlinewidth\": 0, \"ticks\": \"\"}}, \"colorscale\": {\"diverging\": [[0, \"#8e0152\"], [0.1, \"#c51b7d\"], [0.2, \"#de77ae\"], [0.3, \"#f1b6da\"], [0.4, \"#fde0ef\"], [0.5, \"#f7f7f7\"], [0.6, \"#e6f5d0\"], [0.7, \"#b8e186\"], [0.8, \"#7fbc41\"], [0.9, \"#4d9221\"], [1, \"#276419\"]], \"sequential\": [[0.0, \"#0d0887\"], [0.1111111111111111, \"#46039f\"], [0.2222222222222222, \"#7201a8\"], [0.3333333333333333, \"#9c179e\"], [0.4444444444444444, \"#bd3786\"], [0.5555555555555556, \"#d8576b\"], [0.6666666666666666, \"#ed7953\"], [0.7777777777777778, \"#fb9f3a\"], [0.8888888888888888, \"#fdca26\"], [1.0, \"#f0f921\"]], \"sequentialminus\": [[0.0, \"#0d0887\"], [0.1111111111111111, \"#46039f\"], [0.2222222222222222, \"#7201a8\"], [0.3333333333333333, \"#9c179e\"], [0.4444444444444444, \"#bd3786\"], [0.5555555555555556, \"#d8576b\"], [0.6666666666666666, \"#ed7953\"], [0.7777777777777778, \"#fb9f3a\"], [0.8888888888888888, \"#fdca26\"], [1.0, \"#f0f921\"]]}, \"colorway\": [\"#636efa\", \"#EF553B\", \"#00cc96\", \"#ab63fa\", \"#FFA15A\", \"#19d3f3\", \"#FF6692\", \"#B6E880\", \"#FF97FF\", \"#FECB52\"], \"font\": {\"color\": \"#2a3f5f\"}, \"geo\": {\"bgcolor\": \"white\", \"lakecolor\": \"white\", \"landcolor\": \"#E5ECF6\", \"showlakes\": true, \"showland\": true, \"subunitcolor\": \"white\"}, \"hoverlabel\": {\"align\": \"left\"}, \"hovermode\": \"closest\", \"mapbox\": {\"style\": \"light\"}, \"paper_bgcolor\": \"white\", \"plot_bgcolor\": \"#E5ECF6\", \"polar\": {\"angularaxis\": {\"gridcolor\": \"white\", \"linecolor\": \"white\", \"ticks\": \"\"}, \"bgcolor\": \"#E5ECF6\", \"radialaxis\": {\"gridcolor\": \"white\", \"linecolor\": \"white\", \"ticks\": \"\"}}, \"scene\": {\"xaxis\": {\"backgroundcolor\": \"#E5ECF6\", \"gridcolor\": \"white\", \"gridwidth\": 2, \"linecolor\": \"white\", \"showbackground\": true, \"ticks\": \"\", \"zerolinecolor\": \"white\"}, \"yaxis\": {\"backgroundcolor\": \"#E5ECF6\", \"gridcolor\": \"white\", \"gridwidth\": 2, \"linecolor\": \"white\", \"showbackground\": true, \"ticks\": \"\", \"zerolinecolor\": \"white\"}, \"zaxis\": {\"backgroundcolor\": \"#E5ECF6\", \"gridcolor\": \"white\", \"gridwidth\": 2, \"linecolor\": \"white\", \"showbackground\": true, \"ticks\": \"\", \"zerolinecolor\": \"white\"}}, \"shapedefaults\": {\"line\": {\"color\": \"#2a3f5f\"}}, \"ternary\": {\"aaxis\": {\"gridcolor\": \"white\", \"linecolor\": \"white\", \"ticks\": \"\"}, \"baxis\": {\"gridcolor\": \"white\", \"linecolor\": \"white\", \"ticks\": \"\"}, \"bgcolor\": \"#E5ECF6\", \"caxis\": {\"gridcolor\": \"white\", \"linecolor\": \"white\", \"ticks\": \"\"}}, \"title\": {\"x\": 0.05}, \"xaxis\": {\"automargin\": true, \"gridcolor\": \"white\", \"linecolor\": \"white\", \"ticks\": \"\", \"title\": {\"standoff\": 15}, \"zerolinecolor\": \"white\", \"zerolinewidth\": 2}, \"yaxis\": {\"automargin\": true, \"gridcolor\": \"white\", \"linecolor\": \"white\", \"ticks\": \"\", \"title\": {\"standoff\": 15}, \"zerolinecolor\": \"white\", \"zerolinewidth\": 2}}}, \"title\": {\"text\": \"<b>Genders plot:</b> <br />Distribution accross all disciplines<br />\", \"x\": 0.5, \"xanchor\": \"center\"}, \"width\": 1000, \"xaxis\": {\"ticklen\": 5, \"title\": {\"text\": \"Genders count\"}, \"zeroline\": false}},\n",
              "                        {\"responsive\": true}\n",
              "                    ).then(function(){\n",
              "                            \n",
              "var gd = document.getElementById('fdd5a4c4-ea6d-4090-be4e-c94490a0dcee');\n",
              "var x = new MutationObserver(function (mutations, observer) {{\n",
              "        var display = window.getComputedStyle(gd).display;\n",
              "        if (!display || display === 'none') {{\n",
              "            console.log([gd, 'removed!']);\n",
              "            Plotly.purge(gd);\n",
              "            observer.disconnect();\n",
              "        }}\n",
              "}});\n",
              "\n",
              "// Listen for the removal of the full notebook cells\n",
              "var notebookContainer = gd.closest('#notebook-container');\n",
              "if (notebookContainer) {{\n",
              "    x.observe(notebookContainer, {childList: true});\n",
              "}}\n",
              "\n",
              "// Listen for the clearing of the current output cell\n",
              "var outputEl = gd.closest('.output');\n",
              "if (outputEl) {{\n",
              "    x.observe(outputEl, {childList: true});\n",
              "}}\n",
              "\n",
              "                        })\n",
              "                };\n",
              "                \n",
              "            </script>\n",
              "        </div>\n",
              "</body>\n",
              "</html>"
            ]
          },
          "metadata": {}
        }
      ]
    },
    {
      "cell_type": "markdown",
      "metadata": {
        "id": "S1226zMuRMNa"
      },
      "source": [
        "# Athletes Plot\n",
        "* United States of America sent the most athletes with 615 Athletes.\n",
        "* There are at least 15 countries that only sent 2 athletes, mostly located in Oceania, Carribean, and Africa"
      ]
    },
    {
      "cell_type": "code",
      "metadata": {
        "colab": {
          "base_uri": "https://localhost:8080/",
          "height": 1000
        },
        "id": "c0GUQasQFQyZ",
        "outputId": "284bea1d-acf5-4f74-bf7a-355ddc443e12"
      },
      "source": [
        "adf=pd.DataFrame(athletes.groupby('NOC')['Discipline'].count())\n",
        "adf.sort_values(by='Discipline', ascending=True, inplace=True)\n",
        "layout = go.Layout(title = {'text': '<b>Athletes plot:</b> <br />Distribution accross all nations<br />', 'xanchor': 'center', 'x':0.5} ,\n",
        "              xaxis= dict(title= 'Number of athletes',ticklen= 5,zeroline= False),\n",
        "              hovermode=\"y\", autosize=False, width=800, height=4000,)\n",
        "fig=go.Figure(data=[go.Bar(y=adf.index, \n",
        "                           x=adf['Discipline'],\n",
        "                           orientation='h', \n",
        "                           marker_color='rgb(100, 50, 150)')], layout=layout)\n",
        "fig.show()"
      ],
      "execution_count": 6,
      "outputs": [
        {
          "output_type": "display_data",
          "data": {
            "text/html": [
              "<html>\n",
              "<head><meta charset=\"utf-8\" /></head>\n",
              "<body>\n",
              "    <div>\n",
              "            <script src=\"https://cdnjs.cloudflare.com/ajax/libs/mathjax/2.7.5/MathJax.js?config=TeX-AMS-MML_SVG\"></script><script type=\"text/javascript\">if (window.MathJax) {MathJax.Hub.Config({SVG: {font: \"STIX-Web\"}});}</script>\n",
              "                <script type=\"text/javascript\">window.PlotlyConfig = {MathJaxConfig: 'local'};</script>\n",
              "        <script src=\"https://cdn.plot.ly/plotly-latest.min.js\"></script>    \n",
              "            <div id=\"bc5c4cd7-323b-43c2-bed0-0b98f7255d5a\" class=\"plotly-graph-div\" style=\"height:4000px; width:800px;\"></div>\n",
              "            <script type=\"text/javascript\">\n",
              "                \n",
              "                    window.PLOTLYENV=window.PLOTLYENV || {};\n",
              "                    \n",
              "                if (document.getElementById(\"bc5c4cd7-323b-43c2-bed0-0b98f7255d5a\")) {\n",
              "                    Plotly.newPlot(\n",
              "                        'bc5c4cd7-323b-43c2-bed0-0b98f7255d5a',\n",
              "                        [{\"marker\": {\"color\": \"rgb(100, 50, 150)\"}, \"orientation\": \"h\", \"type\": \"bar\", \"x\": [2, 2, 2, 2, 2, 2, 2, 2, 2, 2, 2, 2, 2, 2, 2, 2, 2, 3, 3, 3, 3, 3, 3, 3, 3, 3, 3, 3, 3, 3, 3, 3, 3, 3, 3, 3, 4, 4, 4, 4, 4, 4, 4, 4, 4, 4, 4, 4, 4, 4, 4, 5, 5, 5, 5, 5, 5, 5, 5, 5, 5, 5, 5, 5, 5, 5, 5, 5, 5, 6, 6, 6, 6, 6, 6, 6, 6, 6, 6, 6, 6, 7, 7, 7, 7, 7, 7, 7, 7, 7, 8, 8, 8, 8, 8, 8, 8, 8, 9, 9, 9, 10, 10, 10, 11, 11, 11, 11, 11, 13, 13, 13, 14, 14, 14, 16, 16, 16, 17, 18, 19, 20, 22, 23, 24, 25, 26, 26, 28, 29, 29, 29, 29, 31, 31, 32, 33, 33, 35, 35, 35, 37, 38, 39, 40, 41, 41, 41, 42, 43, 43, 45, 46, 48, 51, 56, 57, 57, 59, 60, 61, 63, 64, 66, 67, 69, 72, 75, 78, 83, 85, 85, 92, 92, 99, 102, 103, 104, 115, 116, 117, 117, 125, 129, 133, 152, 155, 155, 171, 180, 195, 202, 223, 274, 291, 318, 324, 356, 366, 368, 377, 400, 401, 470, 586, 615], \"y\": [\"Dominica\", \"St Vincent and the Grenadines\", \"Lesotho\", \"Brunei Darussalam\", \"Saint Kitts and Nevis\", \"Nauru\", \"Myanmar\", \"South Sudan\", \"Tuvalu\", \"United Republic of Tanzania\", \"Vanuatu\", \"Andorra\", \"Bermuda\", \"Mauritania\", \"Marshall Islands\", \"Central African Republic\", \"Somalia\", \"Cambodia\", \"Palau\", \"Federated States of Micronesia\", \"Kiribati\", \"Chad\", \"Liberia\", \"Democratic Republic of Timor-Leste\", \"Comoros\", \"Bhutan\", \"Congo\", \"Belize\", \"Yemen\", \"Solomon Islands\", \"Equatorial Guinea\", \"Suriname\", \"Virgin Islands, British\", \"Sao Tome and Principe\", \"Gambia\", \"Aruba\", \"Maldives\", \"Libya\", \"Djibouti\", \"Iceland\", \"Guinea-Bissau\", \"Iraq\", \"Lao People's Democratic Republic\", \"Sierra Leone\", \"Virgin Islands, US\", \"United Arab Emirates\", \"Togo\", \"Mali\", \"San Marino\", \"Eswatini\", \"Palestine\", \"Rwanda\", \"Seychelles\", \"Sudan\", \"Oman\", \"Tonga\", \"Guinea\", \"Guam\", \"Liechtenstein\", \"Malawi\", \"Gabon\", \"Saint Lucia\", \"Nepal\", \"Afghanistan\", \"Zimbabwe\", \"Bolivia\", \"American Samoa\", \"El Salvador\", \"Cayman Islands\", \"Madagascar\", \"Cook Islands\", \"Bangladesh\", \"Malta\", \"Monaco\", \"Syrian Arab Republic\", \"Haiti\", \"Lebanon\", \"Grenada\", \"Cape Verde\", \"Antigua and Barbuda\", \"Burundi\", \"Papua New Guinea\", \"Bosnia and Herzegovina\", \"Benin\", \"Burkina Faso\", \"Mauritius\", \"Democratic Republic of the Congo\", \"Niger\", \"Barbados\", \"Guyana\", \"Samoa\", \"Albania\", \"Turkmenistan\", \"Mozambique\", \"Tajikistan\", \"Paraguay\", \"North Macedonia\", \"Nicaragua\", \"Panama\", \"Senegal\", \"Sri Lanka\", \"Pakistan\", \"Kuwait\", \"Kosovo\", \"Cameroon\", \"Namibia\", \"Luxembourg\", \"Jordan\", \"Uruguay\", \"Eritrea\", \"Botswana\", \"Costa Rica\", \"Cyprus\", \"Qatar\", \"Ghana\", \"Bahamas\", \"Armenia\", \"Kyrgyzstan\", \"Vietnam\", \"Philippines\", \"Republic of Moldova\", \"Angola\", \"Guatemala\", \"Singapore\", \"Uganda\", \"Honduras\", \"Indonesia\", \"Refugee Olympic Team\", \"Fiji\", \"Zambia\", \"Malaysia\", \"C\\u00f4te d'Ivoire\", \"Latvia\", \"Bahrain\", \"Trinidad and Tobago\", \"Saudi Arabia\", \"Peru\", \"Estonia\", \"Georgia\", \"Montenegro\", \"Puerto Rico\", \"Lithuania\", \"Slovakia\", \"Thailand\", \"Hong Kong, China\", \"Algeria\", \"Azerbaijan\", \"Bulgaria\", \"Ethiopia\", \"Mongolia\", \"Venezuela\", \"Finland\", \"Ecuador\", \"Morocco\", \"Slovenia\", \"Chile\", \"Croatia\", \"Tunisia\", \"Nigeria\", \"Jamaica\", \"Dominican Republic\", \"Uzbekistan\", \"Colombia\", \"Islamic Republic of Iran\", \"Chinese Taipei\", \"Cuba\", \"Austria\", \"Greece\", \"Kenya\", \"Serbia\", \"Portugal\", \"Israel\", \"Kazakhstan\", \"Norway\", \"Romania\", \"Turkey\", \"Denmark\", \"Belarus\", \"Switzerland\", \"Ireland\", \"India\", \"Czech Republic\", \"Belgium\", \"Sweden\", \"Egypt\", \"Ukraine\", \"Mexico\", \"Hungary\", \"South Africa\", \"Argentina\", \"Poland\", \"New Zealand\", \"Republic of Korea\", \"Netherlands\", \"Brazil\", \"ROC\", \"Spain\", \"Italy\", \"Great Britain\", \"Canada\", \"France\", \"Germany\", \"People's Republic of China\", \"Australia\", \"Japan\", \"United States of America\"]}],\n",
              "                        {\"autosize\": false, \"height\": 4000, \"hovermode\": \"y\", \"template\": {\"data\": {\"bar\": [{\"error_x\": {\"color\": \"#2a3f5f\"}, \"error_y\": {\"color\": \"#2a3f5f\"}, \"marker\": {\"line\": {\"color\": \"#E5ECF6\", \"width\": 0.5}}, \"type\": \"bar\"}], \"barpolar\": [{\"marker\": {\"line\": {\"color\": \"#E5ECF6\", \"width\": 0.5}}, \"type\": \"barpolar\"}], \"carpet\": [{\"aaxis\": {\"endlinecolor\": \"#2a3f5f\", \"gridcolor\": \"white\", \"linecolor\": \"white\", \"minorgridcolor\": \"white\", \"startlinecolor\": \"#2a3f5f\"}, \"baxis\": {\"endlinecolor\": \"#2a3f5f\", \"gridcolor\": \"white\", \"linecolor\": \"white\", \"minorgridcolor\": \"white\", \"startlinecolor\": \"#2a3f5f\"}, \"type\": \"carpet\"}], \"choropleth\": [{\"colorbar\": {\"outlinewidth\": 0, \"ticks\": \"\"}, \"type\": \"choropleth\"}], \"contour\": [{\"colorbar\": {\"outlinewidth\": 0, \"ticks\": \"\"}, \"colorscale\": [[0.0, \"#0d0887\"], [0.1111111111111111, \"#46039f\"], [0.2222222222222222, \"#7201a8\"], [0.3333333333333333, \"#9c179e\"], [0.4444444444444444, \"#bd3786\"], [0.5555555555555556, \"#d8576b\"], [0.6666666666666666, \"#ed7953\"], [0.7777777777777778, \"#fb9f3a\"], [0.8888888888888888, \"#fdca26\"], [1.0, \"#f0f921\"]], \"type\": \"contour\"}], \"contourcarpet\": [{\"colorbar\": {\"outlinewidth\": 0, \"ticks\": \"\"}, \"type\": \"contourcarpet\"}], \"heatmap\": [{\"colorbar\": {\"outlinewidth\": 0, \"ticks\": \"\"}, \"colorscale\": [[0.0, \"#0d0887\"], [0.1111111111111111, \"#46039f\"], [0.2222222222222222, \"#7201a8\"], [0.3333333333333333, \"#9c179e\"], [0.4444444444444444, \"#bd3786\"], [0.5555555555555556, \"#d8576b\"], [0.6666666666666666, \"#ed7953\"], [0.7777777777777778, \"#fb9f3a\"], [0.8888888888888888, \"#fdca26\"], [1.0, \"#f0f921\"]], \"type\": \"heatmap\"}], \"heatmapgl\": [{\"colorbar\": {\"outlinewidth\": 0, \"ticks\": \"\"}, \"colorscale\": [[0.0, \"#0d0887\"], [0.1111111111111111, \"#46039f\"], [0.2222222222222222, \"#7201a8\"], [0.3333333333333333, \"#9c179e\"], [0.4444444444444444, \"#bd3786\"], [0.5555555555555556, \"#d8576b\"], [0.6666666666666666, \"#ed7953\"], [0.7777777777777778, \"#fb9f3a\"], [0.8888888888888888, \"#fdca26\"], [1.0, \"#f0f921\"]], \"type\": \"heatmapgl\"}], \"histogram\": [{\"marker\": {\"colorbar\": {\"outlinewidth\": 0, \"ticks\": \"\"}}, \"type\": \"histogram\"}], \"histogram2d\": [{\"colorbar\": {\"outlinewidth\": 0, \"ticks\": \"\"}, \"colorscale\": [[0.0, \"#0d0887\"], [0.1111111111111111, \"#46039f\"], [0.2222222222222222, \"#7201a8\"], [0.3333333333333333, \"#9c179e\"], [0.4444444444444444, \"#bd3786\"], [0.5555555555555556, \"#d8576b\"], [0.6666666666666666, \"#ed7953\"], [0.7777777777777778, \"#fb9f3a\"], [0.8888888888888888, \"#fdca26\"], [1.0, \"#f0f921\"]], \"type\": \"histogram2d\"}], \"histogram2dcontour\": [{\"colorbar\": {\"outlinewidth\": 0, \"ticks\": \"\"}, \"colorscale\": [[0.0, \"#0d0887\"], [0.1111111111111111, \"#46039f\"], [0.2222222222222222, \"#7201a8\"], [0.3333333333333333, \"#9c179e\"], [0.4444444444444444, \"#bd3786\"], [0.5555555555555556, \"#d8576b\"], [0.6666666666666666, \"#ed7953\"], [0.7777777777777778, \"#fb9f3a\"], [0.8888888888888888, \"#fdca26\"], [1.0, \"#f0f921\"]], \"type\": \"histogram2dcontour\"}], \"mesh3d\": [{\"colorbar\": {\"outlinewidth\": 0, \"ticks\": \"\"}, \"type\": \"mesh3d\"}], \"parcoords\": [{\"line\": {\"colorbar\": {\"outlinewidth\": 0, \"ticks\": \"\"}}, \"type\": \"parcoords\"}], \"pie\": [{\"automargin\": true, \"type\": \"pie\"}], \"scatter\": [{\"marker\": {\"colorbar\": {\"outlinewidth\": 0, \"ticks\": \"\"}}, \"type\": \"scatter\"}], \"scatter3d\": [{\"line\": {\"colorbar\": {\"outlinewidth\": 0, \"ticks\": \"\"}}, \"marker\": {\"colorbar\": {\"outlinewidth\": 0, \"ticks\": \"\"}}, \"type\": \"scatter3d\"}], \"scattercarpet\": [{\"marker\": {\"colorbar\": {\"outlinewidth\": 0, \"ticks\": \"\"}}, \"type\": \"scattercarpet\"}], \"scattergeo\": [{\"marker\": {\"colorbar\": {\"outlinewidth\": 0, \"ticks\": \"\"}}, \"type\": \"scattergeo\"}], \"scattergl\": [{\"marker\": {\"colorbar\": {\"outlinewidth\": 0, \"ticks\": \"\"}}, \"type\": \"scattergl\"}], \"scattermapbox\": [{\"marker\": {\"colorbar\": {\"outlinewidth\": 0, \"ticks\": \"\"}}, \"type\": \"scattermapbox\"}], \"scatterpolar\": [{\"marker\": {\"colorbar\": {\"outlinewidth\": 0, \"ticks\": \"\"}}, \"type\": \"scatterpolar\"}], \"scatterpolargl\": [{\"marker\": {\"colorbar\": {\"outlinewidth\": 0, \"ticks\": \"\"}}, \"type\": \"scatterpolargl\"}], \"scatterternary\": [{\"marker\": {\"colorbar\": {\"outlinewidth\": 0, \"ticks\": \"\"}}, \"type\": \"scatterternary\"}], \"surface\": [{\"colorbar\": {\"outlinewidth\": 0, \"ticks\": \"\"}, \"colorscale\": [[0.0, \"#0d0887\"], [0.1111111111111111, \"#46039f\"], [0.2222222222222222, \"#7201a8\"], [0.3333333333333333, \"#9c179e\"], [0.4444444444444444, \"#bd3786\"], [0.5555555555555556, \"#d8576b\"], [0.6666666666666666, \"#ed7953\"], [0.7777777777777778, \"#fb9f3a\"], [0.8888888888888888, \"#fdca26\"], [1.0, \"#f0f921\"]], \"type\": \"surface\"}], \"table\": [{\"cells\": {\"fill\": {\"color\": \"#EBF0F8\"}, \"line\": {\"color\": \"white\"}}, \"header\": {\"fill\": {\"color\": \"#C8D4E3\"}, \"line\": {\"color\": \"white\"}}, \"type\": \"table\"}]}, \"layout\": {\"annotationdefaults\": {\"arrowcolor\": \"#2a3f5f\", \"arrowhead\": 0, \"arrowwidth\": 1}, \"coloraxis\": {\"colorbar\": {\"outlinewidth\": 0, \"ticks\": \"\"}}, \"colorscale\": {\"diverging\": [[0, \"#8e0152\"], [0.1, \"#c51b7d\"], [0.2, \"#de77ae\"], [0.3, \"#f1b6da\"], [0.4, \"#fde0ef\"], [0.5, \"#f7f7f7\"], [0.6, \"#e6f5d0\"], [0.7, \"#b8e186\"], [0.8, \"#7fbc41\"], [0.9, \"#4d9221\"], [1, \"#276419\"]], \"sequential\": [[0.0, \"#0d0887\"], [0.1111111111111111, \"#46039f\"], [0.2222222222222222, \"#7201a8\"], [0.3333333333333333, \"#9c179e\"], [0.4444444444444444, \"#bd3786\"], [0.5555555555555556, \"#d8576b\"], [0.6666666666666666, \"#ed7953\"], [0.7777777777777778, \"#fb9f3a\"], [0.8888888888888888, \"#fdca26\"], [1.0, \"#f0f921\"]], \"sequentialminus\": [[0.0, \"#0d0887\"], [0.1111111111111111, \"#46039f\"], [0.2222222222222222, \"#7201a8\"], [0.3333333333333333, \"#9c179e\"], [0.4444444444444444, \"#bd3786\"], [0.5555555555555556, \"#d8576b\"], [0.6666666666666666, \"#ed7953\"], [0.7777777777777778, \"#fb9f3a\"], [0.8888888888888888, \"#fdca26\"], [1.0, \"#f0f921\"]]}, \"colorway\": [\"#636efa\", \"#EF553B\", \"#00cc96\", \"#ab63fa\", \"#FFA15A\", \"#19d3f3\", \"#FF6692\", \"#B6E880\", \"#FF97FF\", \"#FECB52\"], \"font\": {\"color\": \"#2a3f5f\"}, \"geo\": {\"bgcolor\": \"white\", \"lakecolor\": \"white\", \"landcolor\": \"#E5ECF6\", \"showlakes\": true, \"showland\": true, \"subunitcolor\": \"white\"}, \"hoverlabel\": {\"align\": \"left\"}, \"hovermode\": \"closest\", \"mapbox\": {\"style\": \"light\"}, \"paper_bgcolor\": \"white\", \"plot_bgcolor\": \"#E5ECF6\", \"polar\": {\"angularaxis\": {\"gridcolor\": \"white\", \"linecolor\": \"white\", \"ticks\": \"\"}, \"bgcolor\": \"#E5ECF6\", \"radialaxis\": {\"gridcolor\": \"white\", \"linecolor\": \"white\", \"ticks\": \"\"}}, \"scene\": {\"xaxis\": {\"backgroundcolor\": \"#E5ECF6\", \"gridcolor\": \"white\", \"gridwidth\": 2, \"linecolor\": \"white\", \"showbackground\": true, \"ticks\": \"\", \"zerolinecolor\": \"white\"}, \"yaxis\": {\"backgroundcolor\": \"#E5ECF6\", \"gridcolor\": \"white\", \"gridwidth\": 2, \"linecolor\": \"white\", \"showbackground\": true, \"ticks\": \"\", \"zerolinecolor\": \"white\"}, \"zaxis\": {\"backgroundcolor\": \"#E5ECF6\", \"gridcolor\": \"white\", \"gridwidth\": 2, \"linecolor\": \"white\", \"showbackground\": true, \"ticks\": \"\", \"zerolinecolor\": \"white\"}}, \"shapedefaults\": {\"line\": {\"color\": \"#2a3f5f\"}}, \"ternary\": {\"aaxis\": {\"gridcolor\": \"white\", \"linecolor\": \"white\", \"ticks\": \"\"}, \"baxis\": {\"gridcolor\": \"white\", \"linecolor\": \"white\", \"ticks\": \"\"}, \"bgcolor\": \"#E5ECF6\", \"caxis\": {\"gridcolor\": \"white\", \"linecolor\": \"white\", \"ticks\": \"\"}}, \"title\": {\"x\": 0.05}, \"xaxis\": {\"automargin\": true, \"gridcolor\": \"white\", \"linecolor\": \"white\", \"ticks\": \"\", \"title\": {\"standoff\": 15}, \"zerolinecolor\": \"white\", \"zerolinewidth\": 2}, \"yaxis\": {\"automargin\": true, \"gridcolor\": \"white\", \"linecolor\": \"white\", \"ticks\": \"\", \"title\": {\"standoff\": 15}, \"zerolinecolor\": \"white\", \"zerolinewidth\": 2}}}, \"title\": {\"text\": \"<b>Athletes plot:</b> <br />Distribution accross all nations<br />\", \"x\": 0.5, \"xanchor\": \"center\"}, \"width\": 800, \"xaxis\": {\"ticklen\": 5, \"title\": {\"text\": \"Number of athletes\"}, \"zeroline\": false}},\n",
              "                        {\"responsive\": true}\n",
              "                    ).then(function(){\n",
              "                            \n",
              "var gd = document.getElementById('bc5c4cd7-323b-43c2-bed0-0b98f7255d5a');\n",
              "var x = new MutationObserver(function (mutations, observer) {{\n",
              "        var display = window.getComputedStyle(gd).display;\n",
              "        if (!display || display === 'none') {{\n",
              "            console.log([gd, 'removed!']);\n",
              "            Plotly.purge(gd);\n",
              "            observer.disconnect();\n",
              "        }}\n",
              "}});\n",
              "\n",
              "// Listen for the removal of the full notebook cells\n",
              "var notebookContainer = gd.closest('#notebook-container');\n",
              "if (notebookContainer) {{\n",
              "    x.observe(notebookContainer, {childList: true});\n",
              "}}\n",
              "\n",
              "// Listen for the clearing of the current output cell\n",
              "var outputEl = gd.closest('.output');\n",
              "if (outputEl) {{\n",
              "    x.observe(outputEl, {childList: true});\n",
              "}}\n",
              "\n",
              "                        })\n",
              "                };\n",
              "                \n",
              "            </script>\n",
              "        </div>\n",
              "</body>\n",
              "</html>"
            ]
          },
          "metadata": {}
        }
      ]
    },
    {
      "cell_type": "markdown",
      "metadata": {
        "id": "XlOL5vb9TjH0"
      },
      "source": [
        "# Teams Plot\n",
        "* Swimming has the most country participated with 113 countries participated\n",
        "* Baseball/Softball has the least country participated with only 12 countries participated."
      ]
    },
    {
      "cell_type": "code",
      "metadata": {
        "colab": {
          "base_uri": "https://localhost:8080/"
        },
        "collapsed": true,
        "id": "7y4kwCDlT-qH",
        "outputId": "751644c2-9d20-4d17-ec3d-8717bf1d3f7f"
      },
      "source": [
        "tdf=teams.groupby('Discipline')['Name'].count()\n",
        "tdf=pd.DataFrame(tdf)\n",
        "tdf.sort_values(by='Name', ascending=True, inplace=True)"
      ],
      "execution_count": 8,
      "outputs": [
        {
          "output_type": "stream",
          "name": "stdout",
          "text": [
            "                     Name\n",
            "Discipline               \n",
            "Baseball/Softball      12\n",
            "Rhythmic Gymnastics    14\n",
            "3x3 Basketball         16\n",
            "Triathlon              18\n",
            "Water Polo             22\n"
          ]
        }
      ]
    },
    {
      "cell_type": "code",
      "metadata": {
        "colab": {
          "base_uri": "https://localhost:8080/",
          "height": 517
        },
        "id": "1-Wk6ueEVJQs",
        "outputId": "6444b706-b3a7-43e7-fea4-4cc593de50a9"
      },
      "source": [
        "layoutteams=go.Layout(title = {'text': '<b>Teams plot:</b> <br />Distribution accross all nations<br />', \n",
        "                                'xanchor': 'center', 'x':0.5} ,\n",
        "                       yaxis= dict(title= 'Total',ticklen= 5,zeroline= False),\n",
        "                      xaxis= dict(title= 'Nations participated',ticklen= 5,zeroline= False),\n",
        "                       hovermode=\"y\", autosize=False, width=800, height=500,)\n",
        "fig=go.Figure(data=[go.Bar(y=tdf.index, \n",
        "                           x=tdf['Name'],\n",
        "                           orientation='h', \n",
        "                           marker_color='rgb(200, 75, 150)')], \n",
        "              layout=layoutteams)\n",
        "fig.show()"
      ],
      "execution_count": 9,
      "outputs": [
        {
          "output_type": "display_data",
          "data": {
            "text/html": [
              "<html>\n",
              "<head><meta charset=\"utf-8\" /></head>\n",
              "<body>\n",
              "    <div>\n",
              "            <script src=\"https://cdnjs.cloudflare.com/ajax/libs/mathjax/2.7.5/MathJax.js?config=TeX-AMS-MML_SVG\"></script><script type=\"text/javascript\">if (window.MathJax) {MathJax.Hub.Config({SVG: {font: \"STIX-Web\"}});}</script>\n",
              "                <script type=\"text/javascript\">window.PlotlyConfig = {MathJaxConfig: 'local'};</script>\n",
              "        <script src=\"https://cdn.plot.ly/plotly-latest.min.js\"></script>    \n",
              "            <div id=\"c5629202-f596-44b6-ae40-542d628b6fdc\" class=\"plotly-graph-div\" style=\"height:500px; width:800px;\"></div>\n",
              "            <script type=\"text/javascript\">\n",
              "                \n",
              "                    window.PLOTLYENV=window.PLOTLYENV || {};\n",
              "                    \n",
              "                if (document.getElementById(\"c5629202-f596-44b6-ae40-542d628b6fdc\")) {\n",
              "                    Plotly.newPlot(\n",
              "                        'c5629202-f596-44b6-ae40-542d628b6fdc',\n",
              "                        [{\"marker\": {\"color\": \"rgb(200, 75, 150)\"}, \"orientation\": \"h\", \"type\": \"bar\", \"x\": [12, 14, 16, 18, 22, 24, 24, 24, 24, 24, 24, 28, 32, 48, 48, 52, 53, 64, 79, 113], \"y\": [\"Baseball/Softball\", \"Rhythmic Gymnastics\", \"3x3 Basketball\", \"Triathlon\", \"Water Polo\", \"Basketball\", \"Volleyball\", \"Handball\", \"Hockey\", \"Artistic Gymnastics\", \"Rugby Sevens\", \"Football\", \"Artistic Swimming\", \"Beach Volleyball\", \"Table Tennis\", \"Fencing\", \"Archery\", \"Cycling Track\", \"Athletics\", \"Swimming\"]}],\n",
              "                        {\"autosize\": false, \"height\": 500, \"hovermode\": \"y\", \"template\": {\"data\": {\"bar\": [{\"error_x\": {\"color\": \"#2a3f5f\"}, \"error_y\": {\"color\": \"#2a3f5f\"}, \"marker\": {\"line\": {\"color\": \"#E5ECF6\", \"width\": 0.5}}, \"type\": \"bar\"}], \"barpolar\": [{\"marker\": {\"line\": {\"color\": \"#E5ECF6\", \"width\": 0.5}}, \"type\": \"barpolar\"}], \"carpet\": [{\"aaxis\": {\"endlinecolor\": \"#2a3f5f\", \"gridcolor\": \"white\", \"linecolor\": \"white\", \"minorgridcolor\": \"white\", \"startlinecolor\": \"#2a3f5f\"}, \"baxis\": {\"endlinecolor\": \"#2a3f5f\", \"gridcolor\": \"white\", \"linecolor\": \"white\", \"minorgridcolor\": \"white\", \"startlinecolor\": \"#2a3f5f\"}, \"type\": \"carpet\"}], \"choropleth\": [{\"colorbar\": {\"outlinewidth\": 0, \"ticks\": \"\"}, \"type\": \"choropleth\"}], \"contour\": [{\"colorbar\": {\"outlinewidth\": 0, \"ticks\": \"\"}, \"colorscale\": [[0.0, \"#0d0887\"], [0.1111111111111111, \"#46039f\"], [0.2222222222222222, \"#7201a8\"], [0.3333333333333333, \"#9c179e\"], [0.4444444444444444, \"#bd3786\"], [0.5555555555555556, \"#d8576b\"], [0.6666666666666666, \"#ed7953\"], [0.7777777777777778, \"#fb9f3a\"], [0.8888888888888888, \"#fdca26\"], [1.0, \"#f0f921\"]], \"type\": \"contour\"}], \"contourcarpet\": [{\"colorbar\": {\"outlinewidth\": 0, \"ticks\": \"\"}, \"type\": \"contourcarpet\"}], \"heatmap\": [{\"colorbar\": {\"outlinewidth\": 0, \"ticks\": \"\"}, \"colorscale\": [[0.0, \"#0d0887\"], [0.1111111111111111, \"#46039f\"], [0.2222222222222222, \"#7201a8\"], [0.3333333333333333, \"#9c179e\"], [0.4444444444444444, \"#bd3786\"], [0.5555555555555556, \"#d8576b\"], [0.6666666666666666, \"#ed7953\"], [0.7777777777777778, \"#fb9f3a\"], [0.8888888888888888, \"#fdca26\"], [1.0, \"#f0f921\"]], \"type\": \"heatmap\"}], \"heatmapgl\": [{\"colorbar\": {\"outlinewidth\": 0, \"ticks\": \"\"}, \"colorscale\": [[0.0, \"#0d0887\"], [0.1111111111111111, \"#46039f\"], [0.2222222222222222, \"#7201a8\"], [0.3333333333333333, \"#9c179e\"], [0.4444444444444444, \"#bd3786\"], [0.5555555555555556, \"#d8576b\"], [0.6666666666666666, \"#ed7953\"], [0.7777777777777778, \"#fb9f3a\"], [0.8888888888888888, \"#fdca26\"], [1.0, \"#f0f921\"]], \"type\": \"heatmapgl\"}], \"histogram\": [{\"marker\": {\"colorbar\": {\"outlinewidth\": 0, \"ticks\": \"\"}}, \"type\": \"histogram\"}], \"histogram2d\": [{\"colorbar\": {\"outlinewidth\": 0, \"ticks\": \"\"}, \"colorscale\": [[0.0, \"#0d0887\"], [0.1111111111111111, \"#46039f\"], [0.2222222222222222, \"#7201a8\"], [0.3333333333333333, \"#9c179e\"], [0.4444444444444444, \"#bd3786\"], [0.5555555555555556, \"#d8576b\"], [0.6666666666666666, \"#ed7953\"], [0.7777777777777778, \"#fb9f3a\"], [0.8888888888888888, \"#fdca26\"], [1.0, \"#f0f921\"]], \"type\": \"histogram2d\"}], \"histogram2dcontour\": [{\"colorbar\": {\"outlinewidth\": 0, \"ticks\": \"\"}, \"colorscale\": [[0.0, \"#0d0887\"], [0.1111111111111111, \"#46039f\"], [0.2222222222222222, \"#7201a8\"], [0.3333333333333333, \"#9c179e\"], [0.4444444444444444, \"#bd3786\"], [0.5555555555555556, \"#d8576b\"], [0.6666666666666666, \"#ed7953\"], [0.7777777777777778, \"#fb9f3a\"], [0.8888888888888888, \"#fdca26\"], [1.0, \"#f0f921\"]], \"type\": \"histogram2dcontour\"}], \"mesh3d\": [{\"colorbar\": {\"outlinewidth\": 0, \"ticks\": \"\"}, \"type\": \"mesh3d\"}], \"parcoords\": [{\"line\": {\"colorbar\": {\"outlinewidth\": 0, \"ticks\": \"\"}}, \"type\": \"parcoords\"}], \"pie\": [{\"automargin\": true, \"type\": \"pie\"}], \"scatter\": [{\"marker\": {\"colorbar\": {\"outlinewidth\": 0, \"ticks\": \"\"}}, \"type\": \"scatter\"}], \"scatter3d\": [{\"line\": {\"colorbar\": {\"outlinewidth\": 0, \"ticks\": \"\"}}, \"marker\": {\"colorbar\": {\"outlinewidth\": 0, \"ticks\": \"\"}}, \"type\": \"scatter3d\"}], \"scattercarpet\": [{\"marker\": {\"colorbar\": {\"outlinewidth\": 0, \"ticks\": \"\"}}, \"type\": \"scattercarpet\"}], \"scattergeo\": [{\"marker\": {\"colorbar\": {\"outlinewidth\": 0, \"ticks\": \"\"}}, \"type\": \"scattergeo\"}], \"scattergl\": [{\"marker\": {\"colorbar\": {\"outlinewidth\": 0, \"ticks\": \"\"}}, \"type\": \"scattergl\"}], \"scattermapbox\": [{\"marker\": {\"colorbar\": {\"outlinewidth\": 0, \"ticks\": \"\"}}, \"type\": \"scattermapbox\"}], \"scatterpolar\": [{\"marker\": {\"colorbar\": {\"outlinewidth\": 0, \"ticks\": \"\"}}, \"type\": \"scatterpolar\"}], \"scatterpolargl\": [{\"marker\": {\"colorbar\": {\"outlinewidth\": 0, \"ticks\": \"\"}}, \"type\": \"scatterpolargl\"}], \"scatterternary\": [{\"marker\": {\"colorbar\": {\"outlinewidth\": 0, \"ticks\": \"\"}}, \"type\": \"scatterternary\"}], \"surface\": [{\"colorbar\": {\"outlinewidth\": 0, \"ticks\": \"\"}, \"colorscale\": [[0.0, \"#0d0887\"], [0.1111111111111111, \"#46039f\"], [0.2222222222222222, \"#7201a8\"], [0.3333333333333333, \"#9c179e\"], [0.4444444444444444, \"#bd3786\"], [0.5555555555555556, \"#d8576b\"], [0.6666666666666666, \"#ed7953\"], [0.7777777777777778, \"#fb9f3a\"], [0.8888888888888888, \"#fdca26\"], [1.0, \"#f0f921\"]], \"type\": \"surface\"}], \"table\": [{\"cells\": {\"fill\": {\"color\": \"#EBF0F8\"}, \"line\": {\"color\": \"white\"}}, \"header\": {\"fill\": {\"color\": \"#C8D4E3\"}, \"line\": {\"color\": \"white\"}}, \"type\": \"table\"}]}, \"layout\": {\"annotationdefaults\": {\"arrowcolor\": \"#2a3f5f\", \"arrowhead\": 0, \"arrowwidth\": 1}, \"coloraxis\": {\"colorbar\": {\"outlinewidth\": 0, \"ticks\": \"\"}}, \"colorscale\": {\"diverging\": [[0, \"#8e0152\"], [0.1, \"#c51b7d\"], [0.2, \"#de77ae\"], [0.3, \"#f1b6da\"], [0.4, \"#fde0ef\"], [0.5, \"#f7f7f7\"], [0.6, \"#e6f5d0\"], [0.7, \"#b8e186\"], [0.8, \"#7fbc41\"], [0.9, \"#4d9221\"], [1, \"#276419\"]], \"sequential\": [[0.0, \"#0d0887\"], [0.1111111111111111, \"#46039f\"], [0.2222222222222222, \"#7201a8\"], [0.3333333333333333, \"#9c179e\"], [0.4444444444444444, \"#bd3786\"], [0.5555555555555556, \"#d8576b\"], [0.6666666666666666, \"#ed7953\"], [0.7777777777777778, \"#fb9f3a\"], [0.8888888888888888, \"#fdca26\"], [1.0, \"#f0f921\"]], \"sequentialminus\": [[0.0, \"#0d0887\"], [0.1111111111111111, \"#46039f\"], [0.2222222222222222, \"#7201a8\"], [0.3333333333333333, \"#9c179e\"], [0.4444444444444444, \"#bd3786\"], [0.5555555555555556, \"#d8576b\"], [0.6666666666666666, \"#ed7953\"], [0.7777777777777778, \"#fb9f3a\"], [0.8888888888888888, \"#fdca26\"], [1.0, \"#f0f921\"]]}, \"colorway\": [\"#636efa\", \"#EF553B\", \"#00cc96\", \"#ab63fa\", \"#FFA15A\", \"#19d3f3\", \"#FF6692\", \"#B6E880\", \"#FF97FF\", \"#FECB52\"], \"font\": {\"color\": \"#2a3f5f\"}, \"geo\": {\"bgcolor\": \"white\", \"lakecolor\": \"white\", \"landcolor\": \"#E5ECF6\", \"showlakes\": true, \"showland\": true, \"subunitcolor\": \"white\"}, \"hoverlabel\": {\"align\": \"left\"}, \"hovermode\": \"closest\", \"mapbox\": {\"style\": \"light\"}, \"paper_bgcolor\": \"white\", \"plot_bgcolor\": \"#E5ECF6\", \"polar\": {\"angularaxis\": {\"gridcolor\": \"white\", \"linecolor\": \"white\", \"ticks\": \"\"}, \"bgcolor\": \"#E5ECF6\", \"radialaxis\": {\"gridcolor\": \"white\", \"linecolor\": \"white\", \"ticks\": \"\"}}, \"scene\": {\"xaxis\": {\"backgroundcolor\": \"#E5ECF6\", \"gridcolor\": \"white\", \"gridwidth\": 2, \"linecolor\": \"white\", \"showbackground\": true, \"ticks\": \"\", \"zerolinecolor\": \"white\"}, \"yaxis\": {\"backgroundcolor\": \"#E5ECF6\", \"gridcolor\": \"white\", \"gridwidth\": 2, \"linecolor\": \"white\", \"showbackground\": true, \"ticks\": \"\", \"zerolinecolor\": \"white\"}, \"zaxis\": {\"backgroundcolor\": \"#E5ECF6\", \"gridcolor\": \"white\", \"gridwidth\": 2, \"linecolor\": \"white\", \"showbackground\": true, \"ticks\": \"\", \"zerolinecolor\": \"white\"}}, \"shapedefaults\": {\"line\": {\"color\": \"#2a3f5f\"}}, \"ternary\": {\"aaxis\": {\"gridcolor\": \"white\", \"linecolor\": \"white\", \"ticks\": \"\"}, \"baxis\": {\"gridcolor\": \"white\", \"linecolor\": \"white\", \"ticks\": \"\"}, \"bgcolor\": \"#E5ECF6\", \"caxis\": {\"gridcolor\": \"white\", \"linecolor\": \"white\", \"ticks\": \"\"}}, \"title\": {\"x\": 0.05}, \"xaxis\": {\"automargin\": true, \"gridcolor\": \"white\", \"linecolor\": \"white\", \"ticks\": \"\", \"title\": {\"standoff\": 15}, \"zerolinecolor\": \"white\", \"zerolinewidth\": 2}, \"yaxis\": {\"automargin\": true, \"gridcolor\": \"white\", \"linecolor\": \"white\", \"ticks\": \"\", \"title\": {\"standoff\": 15}, \"zerolinecolor\": \"white\", \"zerolinewidth\": 2}}}, \"title\": {\"text\": \"<b>Teams plot:</b> <br />Distribution accross all nations<br />\", \"x\": 0.5, \"xanchor\": \"center\"}, \"width\": 800, \"xaxis\": {\"ticklen\": 5, \"title\": {\"text\": \"Nations participated\"}, \"zeroline\": false}, \"yaxis\": {\"ticklen\": 5, \"title\": {\"text\": \"Total\"}, \"zeroline\": false}},\n",
              "                        {\"responsive\": true}\n",
              "                    ).then(function(){\n",
              "                            \n",
              "var gd = document.getElementById('c5629202-f596-44b6-ae40-542d628b6fdc');\n",
              "var x = new MutationObserver(function (mutations, observer) {{\n",
              "        var display = window.getComputedStyle(gd).display;\n",
              "        if (!display || display === 'none') {{\n",
              "            console.log([gd, 'removed!']);\n",
              "            Plotly.purge(gd);\n",
              "            observer.disconnect();\n",
              "        }}\n",
              "}});\n",
              "\n",
              "// Listen for the removal of the full notebook cells\n",
              "var notebookContainer = gd.closest('#notebook-container');\n",
              "if (notebookContainer) {{\n",
              "    x.observe(notebookContainer, {childList: true});\n",
              "}}\n",
              "\n",
              "// Listen for the clearing of the current output cell\n",
              "var outputEl = gd.closest('.output');\n",
              "if (outputEl) {{\n",
              "    x.observe(outputEl, {childList: true});\n",
              "}}\n",
              "\n",
              "                        })\n",
              "                };\n",
              "                \n",
              "            </script>\n",
              "        </div>\n",
              "</body>\n",
              "</html>"
            ]
          },
          "metadata": {}
        }
      ]
    },
    {
      "cell_type": "markdown",
      "metadata": {
        "id": "9QthOikCVZuJ"
      },
      "source": [
        "# Medals Plot\n",
        "* United States of America collected the most medal with 39 Gold, 41 Silver, and 33 Bronze\n",
        "* Oceanian is the only region who didn't collect any medals."
      ]
    },
    {
      "cell_type": "code",
      "metadata": {
        "colab": {
          "base_uri": "https://localhost:8080/"
        },
        "id": "vUvC5qtjW3S6",
        "outputId": "8f195992-a3e5-43b6-8977-7055218b9546"
      },
      "source": [
        "print(medals.info())\n",
        "print(medals.head())"
      ],
      "execution_count": 10,
      "outputs": [
        {
          "output_type": "stream",
          "name": "stdout",
          "text": [
            "<class 'pandas.core.frame.DataFrame'>\n",
            "RangeIndex: 93 entries, 0 to 92\n",
            "Data columns (total 7 columns):\n",
            " #   Column         Non-Null Count  Dtype \n",
            "---  ------         --------------  ----- \n",
            " 0   Rank           93 non-null     int64 \n",
            " 1   Team/NOC       93 non-null     object\n",
            " 2   Gold           93 non-null     int64 \n",
            " 3   Silver         93 non-null     int64 \n",
            " 4   Bronze         93 non-null     int64 \n",
            " 5   Total          93 non-null     int64 \n",
            " 6   Rank by Total  93 non-null     int64 \n",
            "dtypes: int64(6), object(1)\n",
            "memory usage: 5.2+ KB\n",
            "None\n",
            "   Rank                    Team/NOC  Gold  Silver  Bronze  Total  Rank by Total\n",
            "0     1    United States of America    39      41      33    113              1\n",
            "1     2  People's Republic of China    38      32      18     88              2\n",
            "2     3                       Japan    27      14      17     58              5\n",
            "3     4               Great Britain    22      21      22     65              4\n",
            "4     5                         ROC    20      28      23     71              3\n"
          ]
        }
      ]
    },
    {
      "cell_type": "code",
      "metadata": {
        "colab": {
          "base_uri": "https://localhost:8080/"
        },
        "id": "gJ7aJFVvaPLW",
        "outputId": "e3d3bff0-cc25-4750-d926-503d8f26f7b7"
      },
      "source": [
        "medals.sort_values(by='Total', ascending=True, inplace=True)\n",
        "print(medals.head())"
      ],
      "execution_count": 11,
      "outputs": [
        {
          "output_type": "stream",
          "name": "stdout",
          "text": [
            "    Rank              Team/NOC  Gold  Silver  Bronze  Total  Rank by Total\n",
            "92    86  Syrian Arab Republic     0       0       1      1             77\n",
            "62    63               Bermuda     1       0       0      1             77\n",
            "76    77               Bahrain     0       1       0      1             77\n",
            "77    77          Saudi Arabia     0       1       0      1             77\n",
            "78    77             Lithuania     0       1       0      1             77\n"
          ]
        }
      ]
    },
    {
      "cell_type": "code",
      "metadata": {
        "colab": {
          "base_uri": "https://localhost:8080/",
          "height": 1000
        },
        "id": "EJbISSfQohSA",
        "outputId": "5e9b5e09-8c22-4a0c-aab2-ab6be5025778"
      },
      "source": [
        "bronze = go.Bar(y=medals['Team/NOC'], \n",
        "                x=medals['Bronze'], \n",
        "                name='Bronze', \n",
        "                orientation='h', \n",
        "                # text=medals['Bronze'], \n",
        "                # textposition='outside', \n",
        "                # hoverinfo='skip', \n",
        "                marker_color='brown')\n",
        "silver = go.Bar(y=medals['Team/NOC'], \n",
        "                x=medals['Silver'], \n",
        "                name='Silver', \n",
        "                orientation='h', \n",
        "                # text=medals['Silver'], \n",
        "                # textposition='outside', \n",
        "                # hoverinfo='skip', \n",
        "                marker_color='silver')\n",
        "gold = go.Bar(y=medals['Team/NOC'], \n",
        "                x=medals['Gold'], \n",
        "                name='Gold', \n",
        "                orientation='h', \n",
        "                # text=medals['Gold'], \n",
        "                # textposition='outside', \n",
        "                # hoverinfo='skip', \n",
        "                marker_color='gold')\n",
        "data = [bronze, silver, gold]\n",
        "layoutmedals = go.Layout(title = {'text': '<b>Medals plot:</b> <br />Distribution accross all nations<br />', 'xanchor': 'center', 'x':0.5} ,\n",
        "              yaxis= dict(title= 'Total',ticklen= 5,zeroline= False),\n",
        "              hovermode=\"y\", autosize=False, width=1000, height=10000,)\n",
        "fig=go.Figure(data=data, layout=layoutmedals)\n",
        "fig.show()"
      ],
      "execution_count": 12,
      "outputs": [
        {
          "output_type": "display_data",
          "data": {
            "text/html": [
              "<html>\n",
              "<head><meta charset=\"utf-8\" /></head>\n",
              "<body>\n",
              "    <div>\n",
              "            <script src=\"https://cdnjs.cloudflare.com/ajax/libs/mathjax/2.7.5/MathJax.js?config=TeX-AMS-MML_SVG\"></script><script type=\"text/javascript\">if (window.MathJax) {MathJax.Hub.Config({SVG: {font: \"STIX-Web\"}});}</script>\n",
              "                <script type=\"text/javascript\">window.PlotlyConfig = {MathJaxConfig: 'local'};</script>\n",
              "        <script src=\"https://cdn.plot.ly/plotly-latest.min.js\"></script>    \n",
              "            <div id=\"fdd84505-f3ce-41c3-a31b-614039f48fd2\" class=\"plotly-graph-div\" style=\"height:10000px; width:1000px;\"></div>\n",
              "            <script type=\"text/javascript\">\n",
              "                \n",
              "                    window.PLOTLYENV=window.PLOTLYENV || {};\n",
              "                    \n",
              "                if (document.getElementById(\"fdd84505-f3ce-41c3-a31b-614039f48fd2\")) {\n",
              "                    Plotly.newPlot(\n",
              "                        'fdd84505-f3ce-41c3-a31b-614039f48fd2',\n",
              "                        [{\"marker\": {\"color\": \"brown\"}, \"name\": \"Bronze\", \"orientation\": \"h\", \"type\": \"bar\", \"x\": [1, 0, 0, 0, 0, 0, 0, 0, 0, 1, 1, 1, 1, 1, 1, 1, 0, 0, 0, 1, 1, 1, 1, 0, 1, 1, 1, 2, 1, 1, 2, 2, 0, 0, 0, 4, 2, 1, 2, 2, 1, 3, 0, 2, 2, 1, 1, 2, 1, 3, 1, 2, 3, 2, 4, 4, 2, 3, 5, 4, 3, 2, 8, 1, 2, 0, 4, 5, 2, 4, 3, 6, 6, 9, 5, 5, 6, 12, 7, 10, 7, 8, 11, 11, 14, 16, 20, 22, 17, 22, 23, 18, 33], \"y\": [\"Syrian Arab Republic\", \"Bermuda\", \"Bahrain\", \"Saudi Arabia\", \"Lithuania\", \"Morocco\", \"Namibia\", \"Turkmenistan\", \"North Macedonia\", \"Botswana\", \"Burkina Faso\", \"C\\u00f4te d'Ivoire\", \"Ghana\", \"Grenada\", \"Kuwait\", \"Republic of Moldova\", \"Puerto Rico\", \"Kosovo\", \"Tunisia\", \"Estonia\", \"Fiji\", \"Latvia\", \"Thailand\", \"Bahamas\", \"Jordan\", \"Malaysia\", \"Nigeria\", \"Finland\", \"Kyrgyzstan\", \"Qatar\", \"Argentina\", \"San Marino\", \"South Africa\", \"Ecuador\", \"Romania\", \"Mexico\", \"Ethiopia\", \"Slovakia\", \"Armenia\", \"Portugal\", \"Philippines\", \"Mongolia\", \"Venezuela\", \"Israel\", \"Ireland\", \"Uganda\", \"Greece\", \"Dominican Republic\", \"Colombia\", \"Indonesia\", \"Slovenia\", \"Uzbekistan\", \"Hong Kong, China\", \"Bulgaria\", \"Egypt\", \"Azerbaijan\", \"Islamic Republic of Iran\", \"Belgium\", \"Austria\", \"India\", \"Belarus\", \"Croatia\", \"Kazakhstan\", \"Georgia\", \"Norway\", \"Sweden\", \"Jamaica\", \"Serbia\", \"Kenya\", \"Denmark\", \"Czech Republic\", \"Chinese Taipei\", \"Switzerland\", \"Turkey\", \"Poland\", \"Cuba\", \"Spain\", \"Ukraine\", \"New Zealand\", \"Republic of Korea\", \"Hungary\", \"Brazil\", \"Canada\", \"France\", \"Netherlands\", \"Germany\", \"Italy\", \"Australia\", \"Japan\", \"Great Britain\", \"ROC\", \"People's Republic of China\", \"United States of America\"]}, {\"marker\": {\"color\": \"silver\"}, \"name\": \"Silver\", \"orientation\": \"h\", \"type\": \"bar\", \"x\": [0, 0, 1, 1, 1, 0, 1, 1, 1, 0, 0, 0, 0, 0, 0, 0, 0, 0, 1, 0, 0, 0, 0, 0, 1, 1, 1, 0, 2, 0, 1, 1, 2, 1, 3, 0, 1, 2, 2, 1, 2, 1, 3, 0, 0, 1, 1, 3, 4, 1, 1, 0, 2, 1, 1, 3, 2, 1, 1, 2, 3, 3, 0, 5, 2, 6, 1, 1, 4, 4, 4, 4, 4, 2, 5, 3, 8, 6, 6, 4, 7, 6, 6, 12, 12, 11, 10, 7, 14, 21, 28, 32, 41], \"y\": [\"Syrian Arab Republic\", \"Bermuda\", \"Bahrain\", \"Saudi Arabia\", \"Lithuania\", \"Morocco\", \"Namibia\", \"Turkmenistan\", \"North Macedonia\", \"Botswana\", \"Burkina Faso\", \"C\\u00f4te d'Ivoire\", \"Ghana\", \"Grenada\", \"Kuwait\", \"Republic of Moldova\", \"Puerto Rico\", \"Kosovo\", \"Tunisia\", \"Estonia\", \"Fiji\", \"Latvia\", \"Thailand\", \"Bahamas\", \"Jordan\", \"Malaysia\", \"Nigeria\", \"Finland\", \"Kyrgyzstan\", \"Qatar\", \"Argentina\", \"San Marino\", \"South Africa\", \"Ecuador\", \"Romania\", \"Mexico\", \"Ethiopia\", \"Slovakia\", \"Armenia\", \"Portugal\", \"Philippines\", \"Mongolia\", \"Venezuela\", \"Israel\", \"Ireland\", \"Uganda\", \"Greece\", \"Dominican Republic\", \"Colombia\", \"Indonesia\", \"Slovenia\", \"Uzbekistan\", \"Hong Kong, China\", \"Bulgaria\", \"Egypt\", \"Azerbaijan\", \"Islamic Republic of Iran\", \"Belgium\", \"Austria\", \"India\", \"Belarus\", \"Croatia\", \"Kazakhstan\", \"Georgia\", \"Norway\", \"Sweden\", \"Jamaica\", \"Serbia\", \"Kenya\", \"Denmark\", \"Czech Republic\", \"Chinese Taipei\", \"Switzerland\", \"Turkey\", \"Poland\", \"Cuba\", \"Spain\", \"Ukraine\", \"New Zealand\", \"Republic of Korea\", \"Hungary\", \"Brazil\", \"Canada\", \"France\", \"Netherlands\", \"Germany\", \"Italy\", \"Australia\", \"Japan\", \"Great Britain\", \"ROC\", \"People's Republic of China\", \"United States of America\"]}, {\"marker\": {\"color\": \"gold\"}, \"name\": \"Gold\", \"orientation\": \"h\", \"type\": \"bar\", \"x\": [0, 1, 0, 0, 0, 1, 0, 0, 0, 0, 0, 0, 0, 0, 0, 0, 1, 2, 1, 1, 1, 1, 1, 2, 0, 0, 0, 0, 0, 2, 0, 0, 1, 2, 1, 0, 1, 1, 0, 1, 1, 0, 1, 2, 2, 2, 2, 0, 0, 1, 3, 3, 1, 3, 1, 0, 3, 3, 1, 1, 1, 3, 0, 2, 4, 3, 4, 3, 4, 3, 4, 2, 3, 2, 4, 7, 3, 1, 7, 6, 6, 7, 7, 10, 10, 10, 10, 17, 27, 22, 20, 38, 39], \"y\": [\"Syrian Arab Republic\", \"Bermuda\", \"Bahrain\", \"Saudi Arabia\", \"Lithuania\", \"Morocco\", \"Namibia\", \"Turkmenistan\", \"North Macedonia\", \"Botswana\", \"Burkina Faso\", \"C\\u00f4te d'Ivoire\", \"Ghana\", \"Grenada\", \"Kuwait\", \"Republic of Moldova\", \"Puerto Rico\", \"Kosovo\", \"Tunisia\", \"Estonia\", \"Fiji\", \"Latvia\", \"Thailand\", \"Bahamas\", \"Jordan\", \"Malaysia\", \"Nigeria\", \"Finland\", \"Kyrgyzstan\", \"Qatar\", \"Argentina\", \"San Marino\", \"South Africa\", \"Ecuador\", \"Romania\", \"Mexico\", \"Ethiopia\", \"Slovakia\", \"Armenia\", \"Portugal\", \"Philippines\", \"Mongolia\", \"Venezuela\", \"Israel\", \"Ireland\", \"Uganda\", \"Greece\", \"Dominican Republic\", \"Colombia\", \"Indonesia\", \"Slovenia\", \"Uzbekistan\", \"Hong Kong, China\", \"Bulgaria\", \"Egypt\", \"Azerbaijan\", \"Islamic Republic of Iran\", \"Belgium\", \"Austria\", \"India\", \"Belarus\", \"Croatia\", \"Kazakhstan\", \"Georgia\", \"Norway\", \"Sweden\", \"Jamaica\", \"Serbia\", \"Kenya\", \"Denmark\", \"Czech Republic\", \"Chinese Taipei\", \"Switzerland\", \"Turkey\", \"Poland\", \"Cuba\", \"Spain\", \"Ukraine\", \"New Zealand\", \"Republic of Korea\", \"Hungary\", \"Brazil\", \"Canada\", \"France\", \"Netherlands\", \"Germany\", \"Italy\", \"Australia\", \"Japan\", \"Great Britain\", \"ROC\", \"People's Republic of China\", \"United States of America\"]}],\n",
              "                        {\"autosize\": false, \"height\": 10000, \"hovermode\": \"y\", \"template\": {\"data\": {\"bar\": [{\"error_x\": {\"color\": \"#2a3f5f\"}, \"error_y\": {\"color\": \"#2a3f5f\"}, \"marker\": {\"line\": {\"color\": \"#E5ECF6\", \"width\": 0.5}}, \"type\": \"bar\"}], \"barpolar\": [{\"marker\": {\"line\": {\"color\": \"#E5ECF6\", \"width\": 0.5}}, \"type\": \"barpolar\"}], \"carpet\": [{\"aaxis\": {\"endlinecolor\": \"#2a3f5f\", \"gridcolor\": \"white\", \"linecolor\": \"white\", \"minorgridcolor\": \"white\", \"startlinecolor\": \"#2a3f5f\"}, \"baxis\": {\"endlinecolor\": \"#2a3f5f\", \"gridcolor\": \"white\", \"linecolor\": \"white\", \"minorgridcolor\": \"white\", \"startlinecolor\": \"#2a3f5f\"}, \"type\": \"carpet\"}], \"choropleth\": [{\"colorbar\": {\"outlinewidth\": 0, \"ticks\": \"\"}, \"type\": \"choropleth\"}], \"contour\": [{\"colorbar\": {\"outlinewidth\": 0, \"ticks\": \"\"}, \"colorscale\": [[0.0, \"#0d0887\"], [0.1111111111111111, \"#46039f\"], [0.2222222222222222, \"#7201a8\"], [0.3333333333333333, \"#9c179e\"], [0.4444444444444444, \"#bd3786\"], [0.5555555555555556, \"#d8576b\"], [0.6666666666666666, \"#ed7953\"], [0.7777777777777778, \"#fb9f3a\"], [0.8888888888888888, \"#fdca26\"], [1.0, \"#f0f921\"]], \"type\": \"contour\"}], \"contourcarpet\": [{\"colorbar\": {\"outlinewidth\": 0, \"ticks\": \"\"}, \"type\": \"contourcarpet\"}], \"heatmap\": [{\"colorbar\": {\"outlinewidth\": 0, \"ticks\": \"\"}, \"colorscale\": [[0.0, \"#0d0887\"], [0.1111111111111111, \"#46039f\"], [0.2222222222222222, \"#7201a8\"], [0.3333333333333333, \"#9c179e\"], [0.4444444444444444, \"#bd3786\"], [0.5555555555555556, \"#d8576b\"], [0.6666666666666666, \"#ed7953\"], [0.7777777777777778, \"#fb9f3a\"], [0.8888888888888888, \"#fdca26\"], [1.0, \"#f0f921\"]], \"type\": \"heatmap\"}], \"heatmapgl\": [{\"colorbar\": {\"outlinewidth\": 0, \"ticks\": \"\"}, \"colorscale\": [[0.0, \"#0d0887\"], [0.1111111111111111, \"#46039f\"], [0.2222222222222222, \"#7201a8\"], [0.3333333333333333, \"#9c179e\"], [0.4444444444444444, \"#bd3786\"], [0.5555555555555556, \"#d8576b\"], [0.6666666666666666, \"#ed7953\"], [0.7777777777777778, \"#fb9f3a\"], [0.8888888888888888, \"#fdca26\"], [1.0, \"#f0f921\"]], \"type\": \"heatmapgl\"}], \"histogram\": [{\"marker\": {\"colorbar\": {\"outlinewidth\": 0, \"ticks\": \"\"}}, \"type\": \"histogram\"}], \"histogram2d\": [{\"colorbar\": {\"outlinewidth\": 0, \"ticks\": \"\"}, \"colorscale\": [[0.0, \"#0d0887\"], [0.1111111111111111, \"#46039f\"], [0.2222222222222222, \"#7201a8\"], [0.3333333333333333, \"#9c179e\"], [0.4444444444444444, \"#bd3786\"], [0.5555555555555556, \"#d8576b\"], [0.6666666666666666, \"#ed7953\"], [0.7777777777777778, \"#fb9f3a\"], [0.8888888888888888, \"#fdca26\"], [1.0, \"#f0f921\"]], \"type\": \"histogram2d\"}], \"histogram2dcontour\": [{\"colorbar\": {\"outlinewidth\": 0, \"ticks\": \"\"}, \"colorscale\": [[0.0, \"#0d0887\"], [0.1111111111111111, \"#46039f\"], [0.2222222222222222, \"#7201a8\"], [0.3333333333333333, \"#9c179e\"], [0.4444444444444444, \"#bd3786\"], [0.5555555555555556, \"#d8576b\"], [0.6666666666666666, \"#ed7953\"], [0.7777777777777778, \"#fb9f3a\"], [0.8888888888888888, \"#fdca26\"], [1.0, \"#f0f921\"]], \"type\": \"histogram2dcontour\"}], \"mesh3d\": [{\"colorbar\": {\"outlinewidth\": 0, \"ticks\": \"\"}, \"type\": \"mesh3d\"}], \"parcoords\": [{\"line\": {\"colorbar\": {\"outlinewidth\": 0, \"ticks\": \"\"}}, \"type\": \"parcoords\"}], \"pie\": [{\"automargin\": true, \"type\": \"pie\"}], \"scatter\": [{\"marker\": {\"colorbar\": {\"outlinewidth\": 0, \"ticks\": \"\"}}, \"type\": \"scatter\"}], \"scatter3d\": [{\"line\": {\"colorbar\": {\"outlinewidth\": 0, \"ticks\": \"\"}}, \"marker\": {\"colorbar\": {\"outlinewidth\": 0, \"ticks\": \"\"}}, \"type\": \"scatter3d\"}], \"scattercarpet\": [{\"marker\": {\"colorbar\": {\"outlinewidth\": 0, \"ticks\": \"\"}}, \"type\": \"scattercarpet\"}], \"scattergeo\": [{\"marker\": {\"colorbar\": {\"outlinewidth\": 0, \"ticks\": \"\"}}, \"type\": \"scattergeo\"}], \"scattergl\": [{\"marker\": {\"colorbar\": {\"outlinewidth\": 0, \"ticks\": \"\"}}, \"type\": \"scattergl\"}], \"scattermapbox\": [{\"marker\": {\"colorbar\": {\"outlinewidth\": 0, \"ticks\": \"\"}}, \"type\": \"scattermapbox\"}], \"scatterpolar\": [{\"marker\": {\"colorbar\": {\"outlinewidth\": 0, \"ticks\": \"\"}}, \"type\": \"scatterpolar\"}], \"scatterpolargl\": [{\"marker\": {\"colorbar\": {\"outlinewidth\": 0, \"ticks\": \"\"}}, \"type\": \"scatterpolargl\"}], \"scatterternary\": [{\"marker\": {\"colorbar\": {\"outlinewidth\": 0, \"ticks\": \"\"}}, \"type\": \"scatterternary\"}], \"surface\": [{\"colorbar\": {\"outlinewidth\": 0, \"ticks\": \"\"}, \"colorscale\": [[0.0, \"#0d0887\"], [0.1111111111111111, \"#46039f\"], [0.2222222222222222, \"#7201a8\"], [0.3333333333333333, \"#9c179e\"], [0.4444444444444444, \"#bd3786\"], [0.5555555555555556, \"#d8576b\"], [0.6666666666666666, \"#ed7953\"], [0.7777777777777778, \"#fb9f3a\"], [0.8888888888888888, \"#fdca26\"], [1.0, \"#f0f921\"]], \"type\": \"surface\"}], \"table\": [{\"cells\": {\"fill\": {\"color\": \"#EBF0F8\"}, \"line\": {\"color\": \"white\"}}, \"header\": {\"fill\": {\"color\": \"#C8D4E3\"}, \"line\": {\"color\": \"white\"}}, \"type\": \"table\"}]}, \"layout\": {\"annotationdefaults\": {\"arrowcolor\": \"#2a3f5f\", \"arrowhead\": 0, \"arrowwidth\": 1}, \"coloraxis\": {\"colorbar\": {\"outlinewidth\": 0, \"ticks\": \"\"}}, \"colorscale\": {\"diverging\": [[0, \"#8e0152\"], [0.1, \"#c51b7d\"], [0.2, \"#de77ae\"], [0.3, \"#f1b6da\"], [0.4, \"#fde0ef\"], [0.5, \"#f7f7f7\"], [0.6, \"#e6f5d0\"], [0.7, \"#b8e186\"], [0.8, \"#7fbc41\"], [0.9, \"#4d9221\"], [1, \"#276419\"]], \"sequential\": [[0.0, \"#0d0887\"], [0.1111111111111111, \"#46039f\"], [0.2222222222222222, \"#7201a8\"], [0.3333333333333333, \"#9c179e\"], [0.4444444444444444, \"#bd3786\"], [0.5555555555555556, \"#d8576b\"], [0.6666666666666666, \"#ed7953\"], [0.7777777777777778, \"#fb9f3a\"], [0.8888888888888888, \"#fdca26\"], [1.0, \"#f0f921\"]], \"sequentialminus\": [[0.0, \"#0d0887\"], [0.1111111111111111, \"#46039f\"], [0.2222222222222222, \"#7201a8\"], [0.3333333333333333, \"#9c179e\"], [0.4444444444444444, \"#bd3786\"], [0.5555555555555556, \"#d8576b\"], [0.6666666666666666, \"#ed7953\"], [0.7777777777777778, \"#fb9f3a\"], [0.8888888888888888, \"#fdca26\"], [1.0, \"#f0f921\"]]}, \"colorway\": [\"#636efa\", \"#EF553B\", \"#00cc96\", \"#ab63fa\", \"#FFA15A\", \"#19d3f3\", \"#FF6692\", \"#B6E880\", \"#FF97FF\", \"#FECB52\"], \"font\": {\"color\": \"#2a3f5f\"}, \"geo\": {\"bgcolor\": \"white\", \"lakecolor\": \"white\", \"landcolor\": \"#E5ECF6\", \"showlakes\": true, \"showland\": true, \"subunitcolor\": \"white\"}, \"hoverlabel\": {\"align\": \"left\"}, \"hovermode\": \"closest\", \"mapbox\": {\"style\": \"light\"}, \"paper_bgcolor\": \"white\", \"plot_bgcolor\": \"#E5ECF6\", \"polar\": {\"angularaxis\": {\"gridcolor\": \"white\", \"linecolor\": \"white\", \"ticks\": \"\"}, \"bgcolor\": \"#E5ECF6\", \"radialaxis\": {\"gridcolor\": \"white\", \"linecolor\": \"white\", \"ticks\": \"\"}}, \"scene\": {\"xaxis\": {\"backgroundcolor\": \"#E5ECF6\", \"gridcolor\": \"white\", \"gridwidth\": 2, \"linecolor\": \"white\", \"showbackground\": true, \"ticks\": \"\", \"zerolinecolor\": \"white\"}, \"yaxis\": {\"backgroundcolor\": \"#E5ECF6\", \"gridcolor\": \"white\", \"gridwidth\": 2, \"linecolor\": \"white\", \"showbackground\": true, \"ticks\": \"\", \"zerolinecolor\": \"white\"}, \"zaxis\": {\"backgroundcolor\": \"#E5ECF6\", \"gridcolor\": \"white\", \"gridwidth\": 2, \"linecolor\": \"white\", \"showbackground\": true, \"ticks\": \"\", \"zerolinecolor\": \"white\"}}, \"shapedefaults\": {\"line\": {\"color\": \"#2a3f5f\"}}, \"ternary\": {\"aaxis\": {\"gridcolor\": \"white\", \"linecolor\": \"white\", \"ticks\": \"\"}, \"baxis\": {\"gridcolor\": \"white\", \"linecolor\": \"white\", \"ticks\": \"\"}, \"bgcolor\": \"#E5ECF6\", \"caxis\": {\"gridcolor\": \"white\", \"linecolor\": \"white\", \"ticks\": \"\"}}, \"title\": {\"x\": 0.05}, \"xaxis\": {\"automargin\": true, \"gridcolor\": \"white\", \"linecolor\": \"white\", \"ticks\": \"\", \"title\": {\"standoff\": 15}, \"zerolinecolor\": \"white\", \"zerolinewidth\": 2}, \"yaxis\": {\"automargin\": true, \"gridcolor\": \"white\", \"linecolor\": \"white\", \"ticks\": \"\", \"title\": {\"standoff\": 15}, \"zerolinecolor\": \"white\", \"zerolinewidth\": 2}}}, \"title\": {\"text\": \"<b>Medals plot:</b> <br />Distribution accross all nations<br />\", \"x\": 0.5, \"xanchor\": \"center\"}, \"width\": 1000, \"yaxis\": {\"ticklen\": 5, \"title\": {\"text\": \"Total\"}, \"zeroline\": false}},\n",
              "                        {\"responsive\": true}\n",
              "                    ).then(function(){\n",
              "                            \n",
              "var gd = document.getElementById('fdd84505-f3ce-41c3-a31b-614039f48fd2');\n",
              "var x = new MutationObserver(function (mutations, observer) {{\n",
              "        var display = window.getComputedStyle(gd).display;\n",
              "        if (!display || display === 'none') {{\n",
              "            console.log([gd, 'removed!']);\n",
              "            Plotly.purge(gd);\n",
              "            observer.disconnect();\n",
              "        }}\n",
              "}});\n",
              "\n",
              "// Listen for the removal of the full notebook cells\n",
              "var notebookContainer = gd.closest('#notebook-container');\n",
              "if (notebookContainer) {{\n",
              "    x.observe(notebookContainer, {childList: true});\n",
              "}}\n",
              "\n",
              "// Listen for the clearing of the current output cell\n",
              "var outputEl = gd.closest('.output');\n",
              "if (outputEl) {{\n",
              "    x.observe(outputEl, {childList: true});\n",
              "}}\n",
              "\n",
              "                        })\n",
              "                };\n",
              "                \n",
              "            </script>\n",
              "        </div>\n",
              "</body>\n",
              "</html>"
            ]
          },
          "metadata": {}
        }
      ]
    }
  ]
}